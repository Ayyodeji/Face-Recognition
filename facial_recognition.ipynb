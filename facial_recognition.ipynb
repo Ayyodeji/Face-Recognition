{
  "cells": [
    {
      "cell_type": "markdown",
      "id": "dec36f63",
      "metadata": {
        "papermill": {
          "duration": 0.098436,
          "end_time": "2022-05-27T17:47:10.043922",
          "exception": false,
          "start_time": "2022-05-27T17:47:09.945486",
          "status": "completed"
        },
        "tags": [],
        "id": "dec36f63"
      },
      "source": [
        "# Install libraries"
      ]
    },
    {
      "cell_type": "code",
      "execution_count": null,
      "id": "f9446fc1",
      "metadata": {
        "execution": {
          "iopub.execute_input": "2022-05-27T17:47:10.240776Z",
          "iopub.status.busy": "2022-05-27T17:47:10.240308Z",
          "iopub.status.idle": "2022-05-27T17:47:25.556998Z",
          "shell.execute_reply": "2022-05-27T17:47:25.555926Z"
        },
        "papermill": {
          "duration": 15.418485,
          "end_time": "2022-05-27T17:47:25.560107",
          "exception": false,
          "start_time": "2022-05-27T17:47:10.141622",
          "status": "completed"
        },
        "tags": [],
        "colab": {
          "base_uri": "https://localhost:8080/"
        },
        "id": "f9446fc1",
        "outputId": "0b6c5b0b-5f70-47cc-d0df-ab4b9da40ecc"
      },
      "outputs": [
        {
          "output_type": "stream",
          "name": "stdout",
          "text": [
            "Looking in indexes: https://pypi.org/simple, https://us-python.pkg.dev/colab-wheels/public/simple/\n",
            "Collecting mtcnn\n",
            "  Downloading mtcnn-0.1.1-py3-none-any.whl (2.3 MB)\n",
            "\u001b[K     |████████████████████████████████| 2.3 MB 13.7 MB/s \n",
            "\u001b[?25hRequirement already satisfied: opencv-python>=4.1.0 in /usr/local/lib/python3.7/dist-packages (from mtcnn) (4.1.2.30)\n",
            "Requirement already satisfied: keras>=2.0.0 in /usr/local/lib/python3.7/dist-packages (from mtcnn) (2.8.0)\n",
            "Requirement already satisfied: numpy>=1.14.5 in /usr/local/lib/python3.7/dist-packages (from opencv-python>=4.1.0->mtcnn) (1.21.6)\n",
            "Installing collected packages: mtcnn\n",
            "Successfully installed mtcnn-0.1.1\n"
          ]
        }
      ],
      "source": [
        "!pip install mtcnn"
      ]
    },
    {
      "cell_type": "code",
      "execution_count": null,
      "id": "82781455",
      "metadata": {
        "execution": {
          "iopub.execute_input": "2022-05-27T17:47:25.770627Z",
          "iopub.status.busy": "2022-05-27T17:47:25.769743Z",
          "iopub.status.idle": "2022-05-27T17:47:34.096212Z",
          "shell.execute_reply": "2022-05-27T17:47:34.095182Z"
        },
        "papermill": {
          "duration": 8.432379,
          "end_time": "2022-05-27T17:47:34.099070",
          "exception": false,
          "start_time": "2022-05-27T17:47:25.666691",
          "status": "completed"
        },
        "tags": [],
        "id": "82781455"
      },
      "outputs": [],
      "source": [
        "# Imports\n",
        "from matplotlib import pyplot as plt\n",
        "import numpy as np\n",
        "import pandas as pd\n",
        "import cv2\n",
        "from PIL import Image\n",
        "\n",
        "# Confirm mtcnn was installed correctly\n",
        "import mtcnn\n",
        "from mtcnn.mtcnn import MTCNN\n",
        "from matplotlib.patches import Rectangle\n",
        "\n",
        "from os import listdir\n",
        "from tqdm import tqdm\n",
        "import pandas as pd\n",
        "from sklearn.model_selection import train_test_split\n",
        "import seaborn as sns"
      ]
    },
    {
      "cell_type": "code",
      "source": [
        "#mounting google drive\n",
        "from google.colab import drive\n",
        "drive.mount('/content/drive')"
      ],
      "metadata": {
        "colab": {
          "base_uri": "https://localhost:8080/"
        },
        "id": "D0eeVaZns5z0",
        "outputId": "e7b2e1ae-a525-4207-b34e-ceb1d197bc04"
      },
      "id": "D0eeVaZns5z0",
      "execution_count": null,
      "outputs": [
        {
          "output_type": "stream",
          "name": "stdout",
          "text": [
            "Mounted at /content/drive\n"
          ]
        }
      ]
    },
    {
      "cell_type": "code",
      "execution_count": null,
      "id": "c0817ce7",
      "metadata": {
        "execution": {
          "iopub.execute_input": "2022-05-27T17:47:34.306324Z",
          "iopub.status.busy": "2022-05-27T17:47:34.306029Z",
          "iopub.status.idle": "2022-05-27T17:47:34.310456Z",
          "shell.execute_reply": "2022-05-27T17:47:34.309366Z"
        },
        "papermill": {
          "duration": 0.109029,
          "end_time": "2022-05-27T17:47:34.313012",
          "exception": false,
          "start_time": "2022-05-27T17:47:34.203983",
          "status": "completed"
        },
        "tags": [],
        "id": "c0817ce7"
      },
      "outputs": [],
      "source": [
        "DIRECTORY = \"/content/drive/My Drive/yale/\""
      ]
    },
    {
      "cell_type": "markdown",
      "id": "1b9802a6",
      "metadata": {
        "papermill": {
          "duration": 0.101033,
          "end_time": "2022-05-27T17:47:34.515888",
          "exception": false,
          "start_time": "2022-05-27T17:47:34.414855",
          "status": "completed"
        },
        "tags": [],
        "id": "1b9802a6"
      },
      "source": [
        "# EDA\n",
        "After importing the datset i first began by visualising the first three subjcts with two different poses (centerlight and sad), to better understand the images within.\n"
      ]
    },
    {
      "cell_type": "markdown",
      "id": "c7ed40eb",
      "metadata": {
        "papermill": {
          "duration": 0.101885,
          "end_time": "2022-05-27T17:47:34.720955",
          "exception": false,
          "start_time": "2022-05-27T17:47:34.619070",
          "status": "completed"
        },
        "tags": [],
        "id": "c7ed40eb"
      },
      "source": [
        "**Subject01**"
      ]
    },
    {
      "cell_type": "code",
      "execution_count": null,
      "id": "e0c192aa",
      "metadata": {
        "execution": {
          "iopub.execute_input": "2022-05-27T17:47:37.730023Z",
          "iopub.status.busy": "2022-05-27T17:47:37.729645Z",
          "iopub.status.idle": "2022-05-27T17:47:37.962890Z",
          "shell.execute_reply": "2022-05-27T17:47:37.961941Z"
        },
        "papermill": {
          "duration": 0.354207,
          "end_time": "2022-05-27T17:47:37.965335",
          "exception": false,
          "start_time": "2022-05-27T17:47:37.611128",
          "status": "completed"
        },
        "tags": [],
        "colab": {
          "base_uri": "https://localhost:8080/",
          "height": 286
        },
        "id": "e0c192aa",
        "outputId": "484ebd05-7ecd-41d2-a91c-9fa348325d57"
      },
      "outputs": [
        {
          "output_type": "stream",
          "name": "stdout",
          "text": [
            "(243, 320, 3)\n"
          ]
        },
        {
          "output_type": "display_data",
          "data": {
            "text/plain": [
              "<Figure size 432x288 with 1 Axes>"
            ],
            "image/png": "[encoded data removed]"
          },
          "metadata": {
            "needs_background": "light"
          }
        }
      ],
      "source": [
        "filename = \"/content/drive/My Drive/yale/subject03.sad\"\n",
        "pixels = plt.imread(filename)\n",
        "\n",
        "rgb_pixels = np.stack((pixels, pixels, pixels), axis=2)\n",
        "print(rgb_pixels.shape)\n",
        "plt.imshow(pixels)\n",
        "plt.show()"
      ]
    },
    {
      "cell_type": "markdown",
      "id": "4ce22b7c",
      "metadata": {
        "papermill": {
          "duration": 0.118622,
          "end_time": "2022-05-27T17:47:38.201693",
          "exception": false,
          "start_time": "2022-05-27T17:47:38.083071",
          "status": "completed"
        },
        "tags": [],
        "id": "4ce22b7c"
      },
      "source": [
        "# Data Processing"
      ]
    },
    {
      "cell_type": "code",
      "execution_count": null,
      "id": "5ae3bcda",
      "metadata": {
        "execution": {
          "iopub.execute_input": "2022-05-27T17:47:38.676283Z",
          "iopub.status.busy": "2022-05-27T17:47:38.675944Z",
          "iopub.status.idle": "2022-05-27T17:47:51.200551Z",
          "shell.execute_reply": "2022-05-27T17:47:51.199605Z"
        },
        "papermill": {
          "duration": 12.647215,
          "end_time": "2022-05-27T17:47:51.204098",
          "exception": false,
          "start_time": "2022-05-27T17:47:38.556883",
          "status": "completed"
        },
        "tags": [],
        "colab": {
          "base_uri": "https://localhost:8080/"
        },
        "id": "5ae3bcda",
        "outputId": "f63cdc04-2be5-44f1-e65c-fb5059bbd778"
      },
      "outputs": [
        {
          "output_type": "stream",
          "name": "stdout",
          "text": [
            "WARNING:tensorflow:5 out of the last 10 calls to <function Model.make_predict_function.<locals>.predict_function at 0x7f0961c65dd0> triggered tf.function retracing. Tracing is expensive and the excessive number of tracings could be due to (1) creating @tf.function repeatedly in a loop, (2) passing tensors with different shapes, (3) passing Python objects instead of tensors. For (1), please define your @tf.function outside of the loop. For (2), @tf.function has experimental_relax_shapes=True option that relaxes argument shapes that can avoid unnecessary retracing. For (3), please refer to https://www.tensorflow.org/guide/function#controlling_retracing and https://www.tensorflow.org/api_docs/python/tf/function for  more details.\n"
          ]
        }
      ],
      "source": [
        "# Create the detector, using default weights\n",
        "detector = MTCNN()\n",
        "# detect faces in the image\n",
        "results = detector.detect_faces(rgb_pixels)"
      ]
    },
    {
      "cell_type": "code",
      "execution_count": null,
      "id": "9d065f64",
      "metadata": {
        "execution": {
          "iopub.execute_input": "2022-05-27T17:47:51.564809Z",
          "iopub.status.busy": "2022-05-27T17:47:51.564515Z",
          "iopub.status.idle": "2022-05-27T17:47:51.793833Z",
          "shell.execute_reply": "2022-05-27T17:47:51.792837Z"
        },
        "papermill": {
          "duration": 0.393684,
          "end_time": "2022-05-27T17:47:51.796567",
          "exception": false,
          "start_time": "2022-05-27T17:47:51.402883",
          "status": "completed"
        },
        "tags": [],
        "colab": {
          "base_uri": "https://localhost:8080/",
          "height": 269
        },
        "id": "9d065f64",
        "outputId": "37f5c24b-cbd4-47dc-c4d3-4418450d52ef"
      },
      "outputs": [
        {
          "output_type": "display_data",
          "data": {
            "text/plain": [
              "<Figure size 432x288 with 1 Axes>"
            ],
            "image/png": "[encoded data removed]"
          },
          "metadata": {
            "needs_background": "light"
          }
        }
      ],
      "source": [
        "# draw an image with detected objects\n",
        "def draw_image_with_boxes(data, result_list):\n",
        "    # plot the image\n",
        "    plt.imshow(data)\n",
        "    # get the context for drawing boxes\n",
        "    ax = plt.gca()\n",
        "    # plot each box\n",
        "    for result in result_list:\n",
        "        # get coordinates\n",
        "        x, y, width, height = result['box']\n",
        "        # create the shape\n",
        "        rect = Rectangle((x, y), width, height, fill=False, color='red')\n",
        "        # draw the box\n",
        "        ax.add_patch(rect)\n",
        "    # show the plot\n",
        "    plt.show()\n",
        "\n",
        "# display faces on the original image\n",
        "draw_image_with_boxes(rgb_pixels, results)"
      ]
    },
    {
      "cell_type": "code",
      "execution_count": null,
      "id": "3a35d6de",
      "metadata": {
        "execution": {
          "iopub.execute_input": "2022-05-27T17:47:52.034808Z",
          "iopub.status.busy": "2022-05-27T17:47:52.034166Z",
          "iopub.status.idle": "2022-05-27T17:47:54.258969Z",
          "shell.execute_reply": "2022-05-27T17:47:54.257780Z"
        },
        "papermill": {
          "duration": 2.346116,
          "end_time": "2022-05-27T17:47:54.261418",
          "exception": false,
          "start_time": "2022-05-27T17:47:51.915302",
          "status": "completed"
        },
        "tags": [],
        "colab": {
          "base_uri": "https://localhost:8080/",
          "height": 324
        },
        "id": "3a35d6de",
        "outputId": "90b3f2f9-2f9c-495e-dfed-415e0c10dd97"
      },
      "outputs": [
        {
          "output_type": "stream",
          "name": "stdout",
          "text": [
            "WARNING:tensorflow:6 out of the last 11 calls to <function Model.make_predict_function.<locals>.predict_function at 0x7f0963332dd0> triggered tf.function retracing. Tracing is expensive and the excessive number of tracings could be due to (1) creating @tf.function repeatedly in a loop, (2) passing tensors with different shapes, (3) passing Python objects instead of tensors. For (1), please define your @tf.function outside of the loop. For (2), @tf.function has experimental_relax_shapes=True option that relaxes argument shapes that can avoid unnecessary retracing. For (3), please refer to https://www.tensorflow.org/guide/function#controlling_retracing and https://www.tensorflow.org/api_docs/python/tf/function for  more details.\n"
          ]
        },
        {
          "output_type": "execute_result",
          "data": {
            "text/plain": [
              "<matplotlib.image.AxesImage at 0x7f09692a3d50>"
            ]
          },
          "metadata": {},
          "execution_count": 15
        },
        {
          "output_type": "display_data",
          "data": {
            "text/plain": [
              "<Figure size 432x288 with 1 Axes>"
            ],
            "image/png": "[encoded data removed]"
          },
          "metadata": {
            "needs_background": "light"
          }
        }
      ],
      "source": [
        "# extract a single face from a given photograph\n",
        "def extract_face_from_file(filename, required_size=(160, 160)):\n",
        "    # load image from file\n",
        "    image = Image.open(filename)\n",
        "    \n",
        "    return extract_face(image, required_size)\n",
        "\n",
        "def extract_face(image, required_size=(160, 160)):\n",
        "    # convert to RGB, if needed\n",
        "    image = image.convert('RGB')\n",
        "    # convert to array\n",
        "    pixels = np.asarray(image)\n",
        "    # detect faces in the image\n",
        "    results = detector.detect_faces(pixels)\n",
        "    # extract the bounding box from the first face\n",
        "    x1, y1, width, height = results[0]['box']\n",
        "    # bug fix\n",
        "    x1, y1 = abs(x1), abs(y1)\n",
        "    x2, y2 = x1 + width, y1 + height\n",
        "    # extract the face\n",
        "    face = pixels[y1:y2, x1:x2]\n",
        "    # resize pixels to the model size\n",
        "    image = Image.fromarray(face)\n",
        "    image = image.resize(required_size)\n",
        "    face_array = np.asarray(image)\n",
        "    gray_face = cv2.cvtColor(face_array, cv2.COLOR_BGR2GRAY)\n",
        "    \n",
        "    return gray_face\n",
        "\n",
        "\n",
        "# Create the detector, using default weights\n",
        "detector = MTCNN()\n",
        "\n",
        "# load the photo and extract the face\n",
        "face_pixels = extract_face_from_file(\"/content/drive/My Drive/yale/subject03.centerlight\")\n",
        "\n",
        "plt.imshow(face_pixels)"
      ]
    },
    {
      "cell_type": "markdown",
      "id": "d8b41b5b",
      "metadata": {
        "papermill": {
          "duration": 0.141559,
          "end_time": "2022-05-27T17:47:54.550646",
          "exception": false,
          "start_time": "2022-05-27T17:47:54.409087",
          "status": "completed"
        },
        "tags": [],
        "id": "d8b41b5b"
      },
      "source": [
        "**For later use within algorithms we will create a dataframe of the datset**"
      ]
    },
    {
      "cell_type": "code",
      "execution_count": null,
      "id": "5df9a3b5",
      "metadata": {
        "execution": {
          "iopub.execute_input": "2022-05-27T17:47:54.825636Z",
          "iopub.status.busy": "2022-05-27T17:47:54.824719Z",
          "iopub.status.idle": "2022-05-27T17:47:54.888251Z",
          "shell.execute_reply": "2022-05-27T17:47:54.886934Z"
        },
        "papermill": {
          "duration": 0.207663,
          "end_time": "2022-05-27T17:47:54.890906",
          "exception": false,
          "start_time": "2022-05-27T17:47:54.683243",
          "status": "completed"
        },
        "tags": [],
        "colab": {
          "base_uri": "https://localhost:8080/",
          "height": 424
        },
        "id": "5df9a3b5",
        "outputId": "611cf9da-b038-43c0-f76a-cd9e7ab5e639"
      },
      "outputs": [
        {
          "output_type": "execute_result",
          "data": {
            "text/plain": [
              "     subject    category              filename\n",
              "0          1  rightlight  subject01.rightlight\n",
              "1          3       happy       subject03.happy\n",
              "2         11   leftlight   subject11.leftlight\n",
              "3          8   surprised   subject08.surprised\n",
              "4         15      sleepy      subject15.sleepy\n",
              "..       ...         ...                   ...\n",
              "160        4      normal      subject04.normal\n",
              "161        8     glasses     subject08.glasses\n",
              "162       14         sad         subject14.sad\n",
              "163        8      sleepy      subject08.sleepy\n",
              "164        3   leftlight   subject03.leftlight\n",
              "\n",
              "[165 rows x 3 columns]"
            ],
            "text/html": [
              "\n",
              "  <div id=\"df-f994b0d0-bcb8-4f4f-9af7-3880a30dda1a\">\n",
              "    <div class=\"colab-df-container\">\n",
              "      <div>\n",
              "<style scoped>\n",
              "    .dataframe tbody tr th:only-of-type {\n",
              "        vertical-align: middle;\n",
              "    }\n",
              "\n",
              "    .dataframe tbody tr th {\n",
              "        vertical-align: top;\n",
              "    }\n",
              "\n",
              "    .dataframe thead th {\n",
              "        text-align: right;\n",
              "    }\n",
              "</style>\n",
              "<table border=\"1\" class=\"dataframe\">\n",
              "  <thead>\n",
              "    <tr style=\"text-align: right;\">\n",
              "      <th></th>\n",
              "      <th>subject</th>\n",
              "      <th>category</th>\n",
              "      <th>filename</th>\n",
              "    </tr>\n",
              "  </thead>\n",
              "  <tbody>\n",
              "    <tr>\n",
              "      <th>0</th>\n",
              "      <td>1</td>\n",
              "      <td>rightlight</td>\n",
              "      <td>subject01.rightlight</td>\n",
              "    </tr>\n",
              "    <tr>\n",
              "      <th>1</th>\n",
              "      <td>3</td>\n",
              "      <td>happy</td>\n",
              "      <td>subject03.happy</td>\n",
              "    </tr>\n",
              "    <tr>\n",
              "      <th>2</th>\n",
              "      <td>11</td>\n",
              "      <td>leftlight</td>\n",
              "      <td>subject11.leftlight</td>\n",
              "    </tr>\n",
              "    <tr>\n",
              "      <th>3</th>\n",
              "      <td>8</td>\n",
              "      <td>surprised</td>\n",
              "      <td>subject08.surprised</td>\n",
              "    </tr>\n",
              "    <tr>\n",
              "      <th>4</th>\n",
              "      <td>15</td>\n",
              "      <td>sleepy</td>\n",
              "      <td>subject15.sleepy</td>\n",
              "    </tr>\n",
              "    <tr>\n",
              "      <th>...</th>\n",
              "      <td>...</td>\n",
              "      <td>...</td>\n",
              "      <td>...</td>\n",
              "    </tr>\n",
              "    <tr>\n",
              "      <th>160</th>\n",
              "      <td>4</td>\n",
              "      <td>normal</td>\n",
              "      <td>subject04.normal</td>\n",
              "    </tr>\n",
              "    <tr>\n",
              "      <th>161</th>\n",
              "      <td>8</td>\n",
              "      <td>glasses</td>\n",
              "      <td>subject08.glasses</td>\n",
              "    </tr>\n",
              "    <tr>\n",
              "      <th>162</th>\n",
              "      <td>14</td>\n",
              "      <td>sad</td>\n",
              "      <td>subject14.sad</td>\n",
              "    </tr>\n",
              "    <tr>\n",
              "      <th>163</th>\n",
              "      <td>8</td>\n",
              "      <td>sleepy</td>\n",
              "      <td>subject08.sleepy</td>\n",
              "    </tr>\n",
              "    <tr>\n",
              "      <th>164</th>\n",
              "      <td>3</td>\n",
              "      <td>leftlight</td>\n",
              "      <td>subject03.leftlight</td>\n",
              "    </tr>\n",
              "  </tbody>\n",
              "</table>\n",
              "<p>165 rows × 3 columns</p>\n",
              "</div>\n",
              "      <button class=\"colab-df-convert\" onclick=\"convertToInteractive('df-f994b0d0-bcb8-4f4f-9af7-3880a30dda1a')\"\n",
              "              title=\"Convert this dataframe to an interactive table.\"\n",
              "              style=\"display:none;\">\n",
              "        \n",
              "  <svg xmlns=\"http://www.w3.org/2000/svg\" height=\"24px\"viewBox=\"0 0 24 24\"\n",
              "       width=\"24px\">\n",
              "    <path d=\"M0 0h24v24H0V0z\" fill=\"none\"/>\n",
              "    <path d=\"M18.56 5.44l.94 2.06.94-2.06 2.06-.94-2.06-.94-.94-2.06-.94 2.06-2.06.94zm-11 1L8.5 8.5l.94-2.06 2.06-.94-2.06-.94L8.5 2.5l-.94 2.06-2.06.94zm10 10l.94 2.06.94-2.06 2.06-.94-2.06-.94-.94-2.06-.94 2.06-2.06.94z\"/><path d=\"M17.41 7.96l-1.37-1.37c-.4-.4-.92-.59-1.43-.59-.52 0-1.04.2-1.43.59L10.3 9.45l-7.72 7.72c-.78.78-.78 2.05 0 2.83L4 21.41c.39.39.9.59 1.41.59.51 0 1.02-.2 1.41-.59l7.78-7.78 2.81-2.81c.8-.78.8-2.07 0-2.86zM5.41 20L4 18.59l7.72-7.72 1.47 1.35L5.41 20z\"/>\n",
              "  </svg>\n",
              "      </button>\n",
              "      \n",
              "  <style>\n",
              "    .colab-df-container {\n",
              "      display:flex;\n",
              "      flex-wrap:wrap;\n",
              "      gap: 12px;\n",
              "    }\n",
              "\n",
              "    .colab-df-convert {\n",
              "      background-color: #E8F0FE;\n",
              "      border: none;\n",
              "      border-radius: 50%;\n",
              "      cursor: pointer;\n",
              "      display: none;\n",
              "      fill: #1967D2;\n",
              "      height: 32px;\n",
              "      padding: 0 0 0 0;\n",
              "      width: 32px;\n",
              "    }\n",
              "\n",
              "    .colab-df-convert:hover {\n",
              "      background-color: #E2EBFA;\n",
              "      box-shadow: 0px 1px 2px rgba(60, 64, 67, 0.3), 0px 1px 3px 1px rgba(60, 64, 67, 0.15);\n",
              "      fill: #174EA6;\n",
              "    }\n",
              "\n",
              "    [theme=dark] .colab-df-convert {\n",
              "      background-color: #3B4455;\n",
              "      fill: #D2E3FC;\n",
              "    }\n",
              "\n",
              "    [theme=dark] .colab-df-convert:hover {\n",
              "      background-color: #434B5C;\n",
              "      box-shadow: 0px 1px 3px 1px rgba(0, 0, 0, 0.15);\n",
              "      filter: drop-shadow(0px 1px 2px rgba(0, 0, 0, 0.3));\n",
              "      fill: #FFFFFF;\n",
              "    }\n",
              "  </style>\n",
              "\n",
              "      <script>\n",
              "        const buttonEl =\n",
              "          document.querySelector('#df-f994b0d0-bcb8-4f4f-9af7-3880a30dda1a button.colab-df-convert');\n",
              "        buttonEl.style.display =\n",
              "          google.colab.kernel.accessAllowed ? 'block' : 'none';\n",
              "\n",
              "        async function convertToInteractive(key) {\n",
              "          const element = document.querySelector('#df-f994b0d0-bcb8-4f4f-9af7-3880a30dda1a');\n",
              "          const dataTable =\n",
              "            await google.colab.kernel.invokeFunction('convertToInteractive',\n",
              "                                                     [key], {});\n",
              "          if (!dataTable) return;\n",
              "\n",
              "          const docLinkHtml = 'Like what you see? Visit the ' +\n",
              "            '<a target=\"_blank\" href=https://colab.research.google.com/notebooks/data_table.ipynb>data table notebook</a>'\n",
              "            + ' to learn more about interactive tables.';\n",
              "          element.innerHTML = '';\n",
              "          dataTable['output_type'] = 'display_data';\n",
              "          await google.colab.output.renderOutput(dataTable, element);\n",
              "          const docLink = document.createElement('div');\n",
              "          docLink.innerHTML = docLinkHtml;\n",
              "          element.appendChild(docLink);\n",
              "        }\n",
              "      </script>\n",
              "    </div>\n",
              "  </div>\n",
              "  "
            ]
          },
          "metadata": {},
          "execution_count": 16
        }
      ],
      "source": [
        "def list_files(directory, contains):\n",
        "    return list(f for f in listdir(directory) if contains in f)\n",
        "# list filenames\n",
        "filenames = pd.DataFrame(list_files(DIRECTORY, \"subject\"))\n",
        "\n",
        "# generate split \n",
        "df = filenames[0].str.split(\".\", expand=True)\n",
        "df[\"filename\"] = filenames\n",
        "\n",
        "# # tidy columns\n",
        "df = df.rename(columns = {0:\"subject\", 1:\"category\"})\n",
        "df['subject'] = df.subject.str.replace('subject' , '')\n",
        "df.apply(pd.to_numeric, errors='coerce').dropna()\n",
        "df['subject'] = pd.to_numeric(df[\"subject\"])\n",
        "df"
      ]
    },
    {
      "cell_type": "markdown",
      "id": "afdd51c7",
      "metadata": {
        "papermill": {
          "duration": 0.143624,
          "end_time": "2022-05-27T17:47:55.179643",
          "exception": false,
          "start_time": "2022-05-27T17:47:55.036019",
          "status": "completed"
        },
        "tags": [],
        "id": "afdd51c7"
      },
      "source": [
        "**Split the data into training and testing sets**"
      ]
    },
    {
      "cell_type": "code",
      "execution_count": null,
      "id": "204c9bca",
      "metadata": {
        "execution": {
          "iopub.execute_input": "2022-05-27T17:47:55.495754Z",
          "iopub.status.busy": "2022-05-27T17:47:55.495472Z",
          "iopub.status.idle": "2022-05-27T17:47:55.510181Z",
          "shell.execute_reply": "2022-05-27T17:47:55.508978Z"
        },
        "papermill": {
          "duration": 0.185571,
          "end_time": "2022-05-27T17:47:55.512760",
          "exception": false,
          "start_time": "2022-05-27T17:47:55.327189",
          "status": "completed"
        },
        "tags": [],
        "id": "204c9bca"
      },
      "outputs": [],
      "source": [
        "y = df['subject']\n",
        "X = df.drop('subject',axis=1)\n",
        "\n",
        "# # subject\n",
        "X_train_info, X_test_info, y_train, y_test = train_test_split(X, y, train_size=0.8, random_state=45, stratify=y)\n",
        "\n",
        "y_train = y_train.tolist()\n",
        "y_test = y_test.tolist()"
      ]
    },
    {
      "cell_type": "code",
      "execution_count": null,
      "id": "9376308f",
      "metadata": {
        "execution": {
          "iopub.execute_input": "2022-05-27T17:47:55.768396Z",
          "iopub.status.busy": "2022-05-27T17:47:55.768033Z",
          "iopub.status.idle": "2022-05-27T17:47:56.084407Z",
          "shell.execute_reply": "2022-05-27T17:47:56.083366Z"
        },
        "papermill": {
          "duration": 0.445446,
          "end_time": "2022-05-27T17:47:56.087392",
          "exception": false,
          "start_time": "2022-05-27T17:47:55.641946",
          "status": "completed"
        },
        "tags": [],
        "id": "9376308f"
      },
      "outputs": [],
      "source": [
        "detector = MTCNN()\n",
        "\n",
        "def load_dataset(dataset):\n",
        "    faces = list()\n",
        "    for filename in tqdm(dataset[\"filename\"]):\n",
        "        path = DIRECTORY + filename\n",
        "        # get face\n",
        "        face = extract_face_from_file(path)\n",
        "        faces.append(face)\n",
        "    return np.asarray(faces)"
      ]
    },
    {
      "cell_type": "code",
      "execution_count": null,
      "id": "e454f074",
      "metadata": {
        "execution": {
          "iopub.execute_input": "2022-05-27T17:47:56.339927Z",
          "iopub.status.busy": "2022-05-27T17:47:56.339617Z",
          "iopub.status.idle": "2022-05-27T17:49:22.854400Z",
          "shell.execute_reply": "2022-05-27T17:49:22.852570Z"
        },
        "papermill": {
          "duration": 86.647597,
          "end_time": "2022-05-27T17:49:22.859533",
          "exception": false,
          "start_time": "2022-05-27T17:47:56.211936",
          "status": "completed"
        },
        "tags": [],
        "colab": {
          "base_uri": "https://localhost:8080/"
        },
        "id": "e454f074",
        "outputId": "e8388ee0-920b-4106-8477-50091cd6b0c8"
      },
      "outputs": [
        {
          "output_type": "stream",
          "name": "stderr",
          "text": [
            "100%|██████████| 33/33 [00:14<00:00,  2.30it/s]\n",
            "100%|██████████| 132/132 [00:57<00:00,  2.31it/s]"
          ]
        },
        {
          "output_type": "stream",
          "name": "stdout",
          "text": [
            "(33, 160, 160)\n",
            "(132, 160, 160)\n"
          ]
        },
        {
          "output_type": "stream",
          "name": "stderr",
          "text": [
            "\n"
          ]
        }
      ],
      "source": [
        "X_test = load_dataset(X_test_info)\n",
        "X_train = load_dataset(X_train_info)\n",
        "\n",
        "print(X_test.shape)\n",
        "print(X_train.shape)"
      ]
    },
    {
      "cell_type": "code",
      "source": [
        "# create a facial classification system\n",
        "from sklearn.metrics import accuracy_score\n",
        "from sklearn.preprocessing import LabelEncoder \n",
        "from sklearn.preprocessing import Normalizer\n",
        "from sklearn.svm import SVC\n",
        "from sklearn.metrics import classification_report,confusion_matrix\n",
        "import random\n",
        "# Normalize vector inputs\n",
        "in_encoder = Normalizer(norm='l2')\n",
        "\n",
        "X_train_reshaped = X_train.reshape(X_train.shape[0],X_train.shape[1]*X_train.shape[2])\n",
        "print('Reshaped X_train', X_train_reshaped.shape)\n",
        "X_train_reshaped = in_encoder.transform(X_train_reshaped)\n",
        "\n",
        "X_test_reshaped = X_test.reshape(X_test.shape[0],X_test.shape[1]*X_test.shape[2])\n",
        "print('Reshaped X_test', X_test_reshaped.shape)\n",
        "X_test_reshaped = in_encoder.transform(X_test_reshaped)\n",
        "\n",
        "# Encode targets with labels\n",
        "out_encoder = LabelEncoder()\n",
        "out_encoder.fit(y_train)\n",
        "\n",
        "# Fit model\n",
        "model = SVC(kernel='linear', probability=True)\n",
        "model.fit(X_train_reshaped, y_train)\n",
        "\n",
        "# Predict\n",
        "yhat_train = model.predict(X_train_reshaped)\n",
        "yhat_test = model.predict(X_test_reshaped)"
      ],
      "metadata": {
        "colab": {
          "base_uri": "https://localhost:8080/"
        },
        "id": "q1PtJjRJ2Zpe",
        "outputId": "8871c60b-524a-40fb-a0b7-550171ff0dd4"
      },
      "id": "q1PtJjRJ2Zpe",
      "execution_count": null,
      "outputs": [
        {
          "output_type": "stream",
          "name": "stdout",
          "text": [
            "Reshaped X_train (132, 25600)\n",
            "Reshaped X_test (33, 25600)\n"
          ]
        }
      ]
    },
    {
      "cell_type": "code",
      "source": [
        "# Score\n",
        "score_train = accuracy_score(y_train, yhat_train)\n",
        "score_test = accuracy_score(y_test, yhat_test)\n",
        "# Summarize\n",
        "print('Accuracy: train=%.3f, test=%.3f' % (score_train*100, score_test*100))"
      ],
      "metadata": {
        "colab": {
          "base_uri": "https://localhost:8080/"
        },
        "id": "CtEoILzs4FX4",
        "outputId": "cc7dd18a-b448-4679-949c-903b234e95f2"
      },
      "id": "CtEoILzs4FX4",
      "execution_count": null,
      "outputs": [
        {
          "output_type": "stream",
          "name": "stdout",
          "text": [
            "Accuracy: train=80.303, test=72.727\n"
          ]
        }
      ]
    },
    {
      "cell_type": "code",
      "source": [
        "from sklearn.metrics import confusion_matrix\n",
        "\n",
        "import seaborn as sns\n",
        "import tensorflow as tf\n",
        "\n",
        "cm = tf.math.confusion_matrix(labels=y_test, predictions=yhat_test)\n",
        "\n",
        "plt.figure(figsize=(7,6))\n",
        "sns.heatmap(cm, annot=True, fmt='d')\n",
        "plt.xlabel('X')"
      ],
      "metadata": {
        "colab": {
          "base_uri": "https://localhost:8080/",
          "height": 409
        },
        "id": "Dr88Ezql4H3Q",
        "outputId": "00e11ccf-6eca-4e64-847c-943756d1223c"
      },
      "id": "Dr88Ezql4H3Q",
      "execution_count": null,
      "outputs": [
        {
          "output_type": "execute_result",
          "data": {
            "text/plain": [
              "Text(0.5, 33.0, 'X')"
            ]
          },
          "metadata": {},
          "execution_count": 49
        },
        {
          "output_type": "display_data",
          "data": {
            "text/plain": [
              "<Figure size 504x432 with 2 Axes>"
            ],
            "image/png": "[encoded data removed]"
          },
          "metadata": {
            "needs_background": "light"
          }
        }
      ]
    },
    {
      "cell_type": "markdown",
      "id": "dc2baf68",
      "metadata": {
        "papermill": {
          "duration": 0.351115,
          "end_time": "2022-05-27T17:52:50.761998",
          "exception": false,
          "start_time": "2022-05-27T17:52:50.410883",
          "status": "completed"
        },
        "tags": [],
        "id": "dc2baf68"
      },
      "source": [
        "# CNN"
      ]
    },
    {
      "cell_type": "code",
      "execution_count": null,
      "id": "af9591d5",
      "metadata": {
        "execution": {
          "iopub.execute_input": "2022-05-27T17:52:51.467384Z",
          "iopub.status.busy": "2022-05-27T17:52:51.467049Z",
          "iopub.status.idle": "2022-05-27T17:52:51.474074Z",
          "shell.execute_reply": "2022-05-27T17:52:51.473010Z"
        },
        "papermill": {
          "duration": 0.360961,
          "end_time": "2022-05-27T17:52:51.476400",
          "exception": false,
          "start_time": "2022-05-27T17:52:51.115439",
          "status": "completed"
        },
        "tags": [],
        "id": "af9591d5"
      },
      "outputs": [],
      "source": [
        "from keras.models import Sequential\n",
        "from keras.layers import Conv2D, BatchNormalization, MaxPooling2D\n",
        "from keras.layers import Dense, Dropout, Activation, Flatten\n",
        "from tensorflow.keras.optimizers import Adam\n",
        "from tensorflow.keras import regularizers, constraints\n",
        "from tensorflow.keras import models"
      ]
    },
    {
      "cell_type": "markdown",
      "id": "54393473",
      "metadata": {
        "papermill": {
          "duration": 0.350186,
          "end_time": "2022-05-27T17:52:52.169621",
          "exception": false,
          "start_time": "2022-05-27T17:52:51.819435",
          "status": "completed"
        },
        "tags": [],
        "id": "54393473"
      },
      "source": [
        "**Initialize parameters**"
      ]
    },
    {
      "cell_type": "code",
      "execution_count": null,
      "id": "7b47f53b",
      "metadata": {
        "execution": {
          "iopub.execute_input": "2022-05-27T17:52:52.879536Z",
          "iopub.status.busy": "2022-05-27T17:52:52.879245Z",
          "iopub.status.idle": "2022-05-27T17:52:52.884627Z",
          "shell.execute_reply": "2022-05-27T17:52:52.883510Z"
        },
        "papermill": {
          "duration": 0.368148,
          "end_time": "2022-05-27T17:52:52.887863",
          "exception": false,
          "start_time": "2022-05-27T17:52:52.519715",
          "status": "completed"
        },
        "tags": [],
        "id": "7b47f53b"
      },
      "outputs": [],
      "source": [
        "#initilize parameters\n",
        "width, height = 160, 160\n",
        "num_epochs = 25\n",
        "batch_size = 20\n",
        "num_features = 64"
      ]
    },
    {
      "cell_type": "code",
      "execution_count": null,
      "id": "e3c3b220",
      "metadata": {
        "execution": {
          "iopub.execute_input": "2022-05-27T17:52:53.604950Z",
          "iopub.status.busy": "2022-05-27T17:52:53.604652Z",
          "iopub.status.idle": "2022-05-27T17:52:53.610335Z",
          "shell.execute_reply": "2022-05-27T17:52:53.609346Z"
        },
        "papermill": {
          "duration": 0.36834,
          "end_time": "2022-05-27T17:52:53.612610",
          "exception": false,
          "start_time": "2022-05-27T17:52:53.244270",
          "status": "completed"
        },
        "tags": [],
        "id": "e3c3b220"
      },
      "outputs": [],
      "source": [
        "import keras\n",
        "class MCDropout(keras.layers.Dropout):\n",
        "    def call(self, inputs):\n",
        "        return super().call(inputs, training=True)"
      ]
    },
    {
      "cell_type": "markdown",
      "id": "cf310f3e",
      "metadata": {
        "papermill": {
          "duration": 0.357517,
          "end_time": "2022-05-27T17:52:54.323598",
          "exception": false,
          "start_time": "2022-05-27T17:52:53.966081",
          "status": "completed"
        },
        "tags": [],
        "id": "cf310f3e"
      },
      "source": [
        "**Define model**"
      ]
    },
    {
      "cell_type": "code",
      "execution_count": null,
      "id": "8deb434b",
      "metadata": {
        "execution": {
          "iopub.execute_input": "2022-05-27T17:52:55.038776Z",
          "iopub.status.busy": "2022-05-27T17:52:55.038463Z",
          "iopub.status.idle": "2022-05-27T17:52:55.164764Z",
          "shell.execute_reply": "2022-05-27T17:52:55.163689Z"
        },
        "papermill": {
          "duration": 0.489242,
          "end_time": "2022-05-27T17:52:55.167460",
          "exception": false,
          "start_time": "2022-05-27T17:52:54.678218",
          "status": "completed"
        },
        "tags": [],
        "id": "8deb434b"
      },
      "outputs": [],
      "source": [
        "# Define a sequential keras model\n",
        "cnnmodel = models.Sequential()\n",
        "\n",
        "# 1st Convolution layer\n",
        "cnnmodel.add(Conv2D(32, kernel_size=(3, 3), activation='linear', input_shape=(width, height, 1), padding='same'))\n",
        "cnnmodel.add(MaxPooling2D((2, 2)))\n",
        "\n",
        "# 2nd Convolution layer\n",
        "cnnmodel.add(Conv2D(64, (3, 3), activation='relu', kernel_regularizer=regularizers.l2(l2=0.01)))\n",
        "cnnmodel.add(MaxPooling2D(pool_size=(2, 2)))\n",
        "\n",
        "# 3rd Convolution layer\n",
        "cnnmodel.add(Conv2D(128, (3, 3), activation='relu', kernel_regularizer=regularizers.l2(l2=0.01)))\n",
        "cnnmodel.add(MaxPooling2D(pool_size=(2, 2)))\n",
        "\n",
        "# Flatten the Convolution\n",
        "cnnmodel.add(Flatten())\n",
        "\n",
        "# Define a dense layer with l2 regularizer to reduce overfitting\n",
        "cnnmodel.add(Dense(512, activation='relu', kernel_initializer=\"glorot_uniform\", kernel_regularizer=regularizers.l2(l2=0.01)))\n",
        "\n",
        "# Define a drop layer to reduce overfitting\n",
        "cnnmodel.add(MCDropout(rate=0.5))\n",
        "\n",
        "# Final output layer\n",
        "cnnmodel.add(Dense(15, activation='softmax', kernel_initializer=\"glorot_uniform\"))"
      ]
    },
    {
      "cell_type": "code",
      "execution_count": null,
      "id": "26c403dd",
      "metadata": {
        "execution": {
          "iopub.execute_input": "2022-05-27T17:52:55.896565Z",
          "iopub.status.busy": "2022-05-27T17:52:55.896250Z",
          "iopub.status.idle": "2022-05-27T17:52:55.905098Z",
          "shell.execute_reply": "2022-05-27T17:52:55.904086Z"
        },
        "papermill": {
          "duration": 0.386417,
          "end_time": "2022-05-27T17:52:55.908465",
          "exception": false,
          "start_time": "2022-05-27T17:52:55.522048",
          "status": "completed"
        },
        "tags": [],
        "id": "26c403dd"
      },
      "outputs": [],
      "source": [
        "from tensorflow.keras.preprocessing.image import ImageDataGenerator\n",
        "from keras.callbacks import EarlyStopping\n",
        "from tensorflow.keras import models"
      ]
    },
    {
      "cell_type": "markdown",
      "id": "1baeca7f",
      "metadata": {
        "papermill": {
          "duration": 0.384212,
          "end_time": "2022-05-27T17:52:56.648229",
          "exception": false,
          "start_time": "2022-05-27T17:52:56.264017",
          "status": "completed"
        },
        "tags": [],
        "id": "1baeca7f"
      },
      "source": [
        "**Save test/train datsets**"
      ]
    },
    {
      "cell_type": "code",
      "execution_count": null,
      "id": "28db6cc8",
      "metadata": {
        "execution": {
          "iopub.execute_input": "2022-05-27T17:52:57.359515Z",
          "iopub.status.busy": "2022-05-27T17:52:57.359207Z",
          "iopub.status.idle": "2022-05-27T17:52:57.366738Z",
          "shell.execute_reply": "2022-05-27T17:52:57.365698Z"
        },
        "papermill": {
          "duration": 0.367702,
          "end_time": "2022-05-27T17:52:57.369080",
          "exception": false,
          "start_time": "2022-05-27T17:52:57.001378",
          "status": "completed"
        },
        "tags": [],
        "id": "28db6cc8"
      },
      "outputs": [],
      "source": [
        "import os \n",
        "\n",
        "def save_keras_dataset(setname, dataset, labels, per_class):\n",
        "    # combine labels and images to generate files\n",
        "    data = sorted(list(zip(labels, dataset)), key=lambda x: x[0])\n",
        "\n",
        "    # Save images\n",
        "    j = 0\n",
        "    for label, gray_img in tqdm(data):\n",
        "        j = (j% per_class) + 1\n",
        "        # Create directory\n",
        "        directory = f\"data/{setname}/class_{label}/\"\n",
        "        if not os.path.exists(directory):\n",
        "                os.makedirs(directory)\n",
        "        cv2.imwrite(f\"{directory}class_{label}_{j}.png\",gray_img)"
      ]
    },
    {
      "cell_type": "code",
      "execution_count": null,
      "id": "c3617bc6",
      "metadata": {
        "execution": {
          "iopub.execute_input": "2022-05-27T17:52:58.078633Z",
          "iopub.status.busy": "2022-05-27T17:52:58.078331Z",
          "iopub.status.idle": "2022-05-27T17:52:58.197713Z",
          "shell.execute_reply": "2022-05-27T17:52:58.196657Z"
        },
        "papermill": {
          "duration": 0.478219,
          "end_time": "2022-05-27T17:52:58.201471",
          "exception": false,
          "start_time": "2022-05-27T17:52:57.723252",
          "status": "completed"
        },
        "tags": [],
        "colab": {
          "base_uri": "https://localhost:8080/"
        },
        "id": "c3617bc6",
        "outputId": "1361f350-d6ea-4958-837e-1c33d814fc2c"
      },
      "outputs": [
        {
          "output_type": "stream",
          "name": "stderr",
          "text": [
            "100%|██████████| 33/33 [00:00<00:00, 907.23it/s]\n",
            "100%|██████████| 132/132 [00:00<00:00, 1863.21it/s]\n"
          ]
        }
      ],
      "source": [
        "# clear directory if it already exists\n",
        "import shutil\n",
        "shutil.rmtree(r'data', ignore_errors=True)\n",
        "\n",
        "# Save datasets\n",
        "save_keras_dataset(\"test\", X_test, y_test, 1)\n",
        "save_keras_dataset(\"train\", X_train, y_train, 9)"
      ]
    },
    {
      "cell_type": "markdown",
      "id": "1d425c0e",
      "metadata": {
        "papermill": {
          "duration": 0.347927,
          "end_time": "2022-05-27T17:52:58.901458",
          "exception": false,
          "start_time": "2022-05-27T17:52:58.553531",
          "status": "completed"
        },
        "tags": [],
        "id": "1d425c0e"
      },
      "source": [
        "**Add random noise to images to reduce overfitting**"
      ]
    },
    {
      "cell_type": "code",
      "execution_count": null,
      "id": "f3d46d83",
      "metadata": {
        "execution": {
          "iopub.execute_input": "2022-05-27T17:52:59.613322Z",
          "iopub.status.busy": "2022-05-27T17:52:59.612975Z",
          "iopub.status.idle": "2022-05-27T17:52:59.619983Z",
          "shell.execute_reply": "2022-05-27T17:52:59.618976Z"
        },
        "papermill": {
          "duration": 0.365994,
          "end_time": "2022-05-27T17:52:59.622263",
          "exception": false,
          "start_time": "2022-05-27T17:52:59.256269",
          "status": "completed"
        },
        "tags": [],
        "id": "f3d46d83"
      },
      "outputs": [],
      "source": [
        "from tensorflow.keras.preprocessing.image import ImageDataGenerator\n",
        "def data_generator():\n",
        "    return ImageDataGenerator(\n",
        "        rescale=1./255,\n",
        "    )\n",
        "\n",
        "def add_noise(img):\n",
        "    \"\"\"Add random noise to an image\"\"\"\n",
        "    VARIABILITY = 35\n",
        "    deviation = VARIABILITY*random.random()\n",
        "    noise = np.random.normal(0, deviation, img.shape)\n",
        "    img += noise\n",
        "    np.clip(img, 0., 255.)\n",
        "    return img"
      ]
    },
    {
      "cell_type": "code",
      "execution_count": null,
      "id": "3fdb6a13",
      "metadata": {
        "execution": {
          "iopub.execute_input": "2022-05-27T17:53:00.331551Z",
          "iopub.status.busy": "2022-05-27T17:53:00.330616Z",
          "iopub.status.idle": "2022-05-27T17:53:00.337085Z",
          "shell.execute_reply": "2022-05-27T17:53:00.336093Z"
        },
        "papermill": {
          "duration": 0.366776,
          "end_time": "2022-05-27T17:53:00.339882",
          "exception": false,
          "start_time": "2022-05-27T17:52:59.973106",
          "status": "completed"
        },
        "tags": [],
        "id": "3fdb6a13"
      },
      "outputs": [],
      "source": [
        "TRAINING_DATA_DIRECTORY = \"data/train\"\n",
        "TESTING_DATA_DIRECTORY = \"data/test\""
      ]
    },
    {
      "cell_type": "markdown",
      "id": "bbce73b9",
      "metadata": {
        "papermill": {
          "duration": 0.54227,
          "end_time": "2022-05-27T17:53:01.368885",
          "exception": false,
          "start_time": "2022-05-27T17:53:00.826615",
          "status": "completed"
        },
        "tags": [],
        "id": "bbce73b9"
      },
      "source": [
        "**generate training, testing, validation generators **"
      ]
    },
    {
      "cell_type": "code",
      "execution_count": null,
      "id": "78f17c95",
      "metadata": {
        "execution": {
          "iopub.execute_input": "2022-05-27T17:53:02.077466Z",
          "iopub.status.busy": "2022-05-27T17:53:02.077184Z",
          "iopub.status.idle": "2022-05-27T17:53:02.392597Z",
          "shell.execute_reply": "2022-05-27T17:53:02.391635Z"
        },
        "papermill": {
          "duration": 0.672253,
          "end_time": "2022-05-27T17:53:02.395451",
          "exception": false,
          "start_time": "2022-05-27T17:53:01.723198",
          "status": "completed"
        },
        "tags": [],
        "colab": {
          "base_uri": "https://localhost:8080/"
        },
        "id": "78f17c95",
        "outputId": "a477b96f-9fc1-444c-9f1d-8d1fdfe96c91"
      },
      "outputs": [
        {
          "output_type": "stream",
          "name": "stdout",
          "text": [
            "Found 132 images belonging to 15 classes.\n",
            "Found 15 images belonging to 15 classes.\n",
            "Found 15 images belonging to 15 classes.\n"
          ]
        }
      ],
      "source": [
        "# Setup Data Generators\n",
        "training_generator = data_generator().flow_from_directory(\n",
        "    TRAINING_DATA_DIRECTORY,\n",
        "    target_size=(width, height),\n",
        "    batch_size=batch_size,\n",
        "    class_mode='categorical',\n",
        "    color_mode='grayscale'\n",
        ")\n",
        "\n",
        "testing_generator = data_generator().flow_from_directory(\n",
        "    TESTING_DATA_DIRECTORY,\n",
        "    target_size=(width, height),\n",
        "    class_mode='categorical',\n",
        "    color_mode='grayscale'\n",
        ")\n",
        "\n",
        "validation_generator = data_generator().flow_from_directory(\n",
        "    TESTING_DATA_DIRECTORY,\n",
        "    target_size=(width, height),\n",
        "    class_mode='categorical',\n",
        "    color_mode='grayscale',\n",
        "    shuffle=False # IMPORTANT: to ensure classes line up with batches\n",
        ")"
      ]
    },
    {
      "cell_type": "code",
      "execution_count": null,
      "id": "f26b1b08",
      "metadata": {
        "execution": {
          "iopub.execute_input": "2022-05-27T17:53:03.109797Z",
          "iopub.status.busy": "2022-05-27T17:53:03.109498Z",
          "iopub.status.idle": "2022-05-27T17:53:04.446984Z",
          "shell.execute_reply": "2022-05-27T17:53:04.445952Z"
        },
        "papermill": {
          "duration": 1.695266,
          "end_time": "2022-05-27T17:53:04.449287",
          "exception": false,
          "start_time": "2022-05-27T17:53:02.754021",
          "status": "completed"
        },
        "tags": [],
        "id": "f26b1b08"
      },
      "outputs": [],
      "source": [
        "from keras.utils.vis_utils import plot_model\n",
        "#plot_model(cnnmodel, show_shapes=True, show_layer_names=True)"
      ]
    },
    {
      "cell_type": "markdown",
      "id": "eaf5691c",
      "metadata": {
        "papermill": {
          "duration": 0.35279,
          "end_time": "2022-05-27T17:53:05.158096",
          "exception": false,
          "start_time": "2022-05-27T17:53:04.805306",
          "status": "completed"
        },
        "tags": [],
        "id": "eaf5691c"
      },
      "source": [
        "**Declare and fit model**"
      ]
    },
    {
      "cell_type": "code",
      "execution_count": null,
      "id": "0e074159",
      "metadata": {
        "execution": {
          "iopub.execute_input": "2022-05-27T17:53:05.876934Z",
          "iopub.status.busy": "2022-05-27T17:53:05.876552Z",
          "iopub.status.idle": "2022-05-27T17:53:16.936845Z",
          "shell.execute_reply": "2022-05-27T17:53:16.935774Z"
        },
        "papermill": {
          "duration": 11.424089,
          "end_time": "2022-05-27T17:53:16.939741",
          "exception": false,
          "start_time": "2022-05-27T17:53:05.515652",
          "status": "completed"
        },
        "tags": [],
        "colab": {
          "base_uri": "https://localhost:8080/"
        },
        "id": "0e074159",
        "outputId": "40cef50c-9f79-44f0-e69b-6f16f565c14c"
      },
      "outputs": [
        {
          "output_type": "stream",
          "name": "stdout",
          "text": [
            "Epoch 1/25\n"
          ]
        },
        {
          "output_type": "stream",
          "name": "stderr",
          "text": [
            "/usr/local/lib/python3.7/dist-packages/tensorflow/python/util/dispatch.py:1082: UserWarning: \"`categorical_crossentropy` received `from_logits=True`, but the `output` argument was produced by a sigmoid or softmax activation and thus does not represent logits. Was this intended?\"\n",
            "  return dispatch_target(*args, **kwargs)\n"
          ]
        },
        {
          "output_type": "stream",
          "name": "stdout",
          "text": [
            "6/6 [==============================] - 5s 755ms/step - loss: 12.9674 - accuracy: 0.0982 - val_loss: 11.2335 - val_accuracy: 0.0667\n",
            "Epoch 2/25\n",
            "6/6 [==============================] - 4s 710ms/step - loss: 10.1429 - accuracy: 0.1518 - val_loss: 8.8056 - val_accuracy: 0.3333\n",
            "Epoch 3/25\n",
            "6/6 [==============================] - 4s 707ms/step - loss: 8.0406 - accuracy: 0.2143 - val_loss: 7.1113 - val_accuracy: 0.1333\n",
            "Epoch 4/25\n",
            "6/6 [==============================] - 6s 1s/step - loss: 6.4860 - accuracy: 0.2321 - val_loss: 5.8496 - val_accuracy: 0.2000\n",
            "Epoch 5/25\n",
            "6/6 [==============================] - 4s 711ms/step - loss: 5.4595 - accuracy: 0.3393 - val_loss: 4.9306 - val_accuracy: 0.2667\n",
            "Epoch 6/25\n",
            "6/6 [==============================] - 4s 712ms/step - loss: 4.5496 - accuracy: 0.4643 - val_loss: 4.1729 - val_accuracy: 0.4667\n",
            "Epoch 7/25\n",
            "6/6 [==============================] - 4s 711ms/step - loss: 3.9596 - accuracy: 0.4286 - val_loss: 3.5758 - val_accuracy: 0.6000\n",
            "Epoch 8/25\n",
            "6/6 [==============================] - 4s 757ms/step - loss: 3.1880 - accuracy: 0.6786 - val_loss: 3.3512 - val_accuracy: 0.6000\n",
            "Epoch 9/25\n",
            "6/6 [==============================] - 5s 767ms/step - loss: 2.7364 - accuracy: 0.7500 - val_loss: 3.1363 - val_accuracy: 0.6667\n",
            "Epoch 10/25\n",
            "6/6 [==============================] - 4s 711ms/step - loss: 2.3097 - accuracy: 0.8750 - val_loss: 2.7739 - val_accuracy: 0.7333\n",
            "Epoch 11/25\n",
            "6/6 [==============================] - 4s 719ms/step - loss: 2.2260 - accuracy: 0.8482 - val_loss: 2.5617 - val_accuracy: 0.7333\n",
            "Epoch 12/25\n",
            "6/6 [==============================] - 4s 761ms/step - loss: 2.0330 - accuracy: 0.9018 - val_loss: 2.4475 - val_accuracy: 0.8000\n",
            "Epoch 13/25\n",
            "6/6 [==============================] - 4s 715ms/step - loss: 1.9182 - accuracy: 0.9464 - val_loss: 2.5959 - val_accuracy: 0.6667\n",
            "Epoch 14/25\n",
            "6/6 [==============================] - 4s 713ms/step - loss: 1.8055 - accuracy: 0.9464 - val_loss: 2.3124 - val_accuracy: 0.7333\n",
            "Epoch 15/25\n",
            "6/6 [==============================] - 5s 753ms/step - loss: 1.6283 - accuracy: 0.9833 - val_loss: 2.0702 - val_accuracy: 0.7333\n",
            "Epoch 16/25\n",
            "6/6 [==============================] - 4s 696ms/step - loss: 1.5706 - accuracy: 0.9821 - val_loss: 2.3210 - val_accuracy: 0.6667\n",
            "Epoch 17/25\n",
            "6/6 [==============================] - 4s 710ms/step - loss: 1.5316 - accuracy: 0.9554 - val_loss: 2.2911 - val_accuracy: 0.8000\n",
            "Epoch 18/25\n",
            "6/6 [==============================] - 4s 764ms/step - loss: 1.4251 - accuracy: 0.9821 - val_loss: 1.7898 - val_accuracy: 0.8667\n",
            "Epoch 19/25\n",
            "6/6 [==============================] - 4s 757ms/step - loss: 1.3395 - accuracy: 1.0000 - val_loss: 1.9702 - val_accuracy: 0.7333\n",
            "Epoch 20/25\n",
            "6/6 [==============================] - 5s 754ms/step - loss: 1.3435 - accuracy: 0.9500 - val_loss: 1.7382 - val_accuracy: 0.8000\n",
            "Epoch 21/25\n",
            "6/6 [==============================] - 5s 809ms/step - loss: 1.2243 - accuracy: 1.0000 - val_loss: 1.8104 - val_accuracy: 0.8000\n",
            "Epoch 22/25\n",
            "6/6 [==============================] - 5s 765ms/step - loss: 1.2225 - accuracy: 0.9667 - val_loss: 1.6036 - val_accuracy: 0.8667\n",
            "Epoch 23/25\n",
            "6/6 [==============================] - 4s 706ms/step - loss: 1.1439 - accuracy: 0.9911 - val_loss: 1.5429 - val_accuracy: 0.8667\n",
            "Epoch 24/25\n",
            "6/6 [==============================] - 4s 701ms/step - loss: 1.0993 - accuracy: 1.0000 - val_loss: 1.7613 - val_accuracy: 0.7333\n",
            "Epoch 25/25\n",
            "6/6 [==============================] - 4s 754ms/step - loss: 1.0549 - accuracy: 1.0000 - val_loss: 1.3795 - val_accuracy: 0.9333\n"
          ]
        }
      ],
      "source": [
        "from tensorflow.keras import optimizers, losses\n",
        "from tensorflow.keras.callbacks import EarlyStopping\n",
        "early_stopping = EarlyStopping()\n",
        "\n",
        "cnnmodel.compile(loss=losses.CategoricalCrossentropy(from_logits=True),optimizer=optimizers.Adam(learning_rate=0.0003),metrics=[\"accuracy\"])\n",
        "\n",
        "history = cnnmodel.fit(training_generator,steps_per_epoch=(120//batch_size ),epochs=num_epochs,validation_data=testing_generator,shuffle=True,validation_steps=(30//batch_size),)"
      ]
    },
    {
      "cell_type": "markdown",
      "id": "4ec8331e",
      "metadata": {
        "papermill": {
          "duration": 0.396942,
          "end_time": "2022-05-27T17:53:17.752528",
          "exception": false,
          "start_time": "2022-05-27T17:53:17.355586",
          "status": "completed"
        },
        "tags": [],
        "id": "4ec8331e"
      },
      "source": [
        "**Accuracy graph**"
      ]
    },
    {
      "cell_type": "code",
      "source": [
        "cnnmodel.predict()"
      ],
      "metadata": {
        "id": "mHAth0NpxXwg"
      },
      "id": "mHAth0NpxXwg",
      "execution_count": null,
      "outputs": []
    },
    {
      "cell_type": "code",
      "execution_count": null,
      "id": "de547f01",
      "metadata": {
        "execution": {
          "iopub.execute_input": "2022-05-27T17:53:18.540348Z",
          "iopub.status.busy": "2022-05-27T17:53:18.540007Z",
          "iopub.status.idle": "2022-05-27T17:53:18.822233Z",
          "shell.execute_reply": "2022-05-27T17:53:18.821012Z"
        },
        "papermill": {
          "duration": 0.676468,
          "end_time": "2022-05-27T17:53:18.824514",
          "exception": false,
          "start_time": "2022-05-27T17:53:18.148046",
          "status": "completed"
        },
        "tags": [],
        "colab": {
          "base_uri": "https://localhost:8080/",
          "height": 300
        },
        "id": "de547f01",
        "outputId": "1df8a261-0abb-4e3c-9866-992b159996a4"
      },
      "outputs": [
        {
          "output_type": "execute_result",
          "data": {
            "text/plain": [
              "<matplotlib.legend.Legend at 0x7f09595b58d0>"
            ]
          },
          "metadata": {},
          "execution_count": 34
        },
        {
          "output_type": "display_data",
          "data": {
            "text/plain": [
              "<Figure size 432x288 with 1 Axes>"
            ],
            "image/png": "[encoded data removed]"
          },
          "metadata": {
            "needs_background": "light"
          }
        }
      ],
      "source": [
        "plot_folder = \"plot\"\n",
        "plt.plot(history.history['accuracy'], label='accuracy')\n",
        "plt.plot(history.history['val_accuracy'], label='val_accuracy')\n",
        "plt.xlabel('Epoch No')\n",
        "plt.ylabel('Accuracy')\n",
        "plt.ylim([0.1, 1])\n",
        "plt.legend(loc='lower right')"
      ]
    },
    {
      "cell_type": "markdown",
      "id": "1b6393d9",
      "metadata": {
        "papermill": {
          "duration": 0.389676,
          "end_time": "2022-05-27T17:53:19.602276",
          "exception": false,
          "start_time": "2022-05-27T17:53:19.212600",
          "status": "completed"
        },
        "tags": [],
        "id": "1b6393d9"
      },
      "source": [
        "**Save model**"
      ]
    },
    {
      "cell_type": "code",
      "execution_count": null,
      "id": "4840b823",
      "metadata": {
        "execution": {
          "iopub.execute_input": "2022-05-27T17:53:20.386886Z",
          "iopub.status.busy": "2022-05-27T17:53:20.386541Z",
          "iopub.status.idle": "2022-05-27T17:53:21.130105Z",
          "shell.execute_reply": "2022-05-27T17:53:21.129108Z"
        },
        "papermill": {
          "duration": 1.14121,
          "end_time": "2022-05-27T17:53:21.133584",
          "exception": false,
          "start_time": "2022-05-27T17:53:19.992374",
          "status": "completed"
        },
        "tags": [],
        "id": "4840b823"
      },
      "outputs": [],
      "source": [
        "MODEL_NAME = \"keras_face_recognition.h5\"\n",
        "model_path = \"./model\"\n",
        "if not os.path.exists(model_path):\n",
        "    os.mkdir(model_path)\n",
        "\n",
        "cnnmodel.save(os.path.join(model_path, MODEL_NAME))\n",
        "class_names = training_generator.class_indices\n",
        "class_names_file_reverse = MODEL_NAME[:-3] + \"_class_names_reverse.npy\"\n",
        "class_names_file = MODEL_NAME[:-3] + \"_class_names.npy\"\n",
        "np.save(os.path.join(model_path, class_names_file_reverse), class_names)\n",
        "class_names_reversed = np.load(os.path.join(model_path, class_names_file_reverse), allow_pickle=True).item()\n",
        "class_names = dict([(value, key) for key, value in class_names_reversed.items()])\n",
        "np.save(os.path.join(model_path, class_names_file), class_names)"
      ]
    },
    {
      "cell_type": "markdown",
      "id": "d9e8bd7a",
      "metadata": {
        "papermill": {
          "duration": 0.570381,
          "end_time": "2022-05-27T17:53:22.378621",
          "exception": false,
          "start_time": "2022-05-27T17:53:21.808240",
          "status": "completed"
        },
        "tags": [],
        "id": "d9e8bd7a"
      },
      "source": [
        "**Get random image**"
      ]
    },
    {
      "cell_type": "code",
      "execution_count": null,
      "id": "74d24ecc",
      "metadata": {
        "execution": {
          "iopub.execute_input": "2022-05-27T17:53:23.512676Z",
          "iopub.status.busy": "2022-05-27T17:53:23.512396Z",
          "iopub.status.idle": "2022-05-27T17:53:23.519913Z",
          "shell.execute_reply": "2022-05-27T17:53:23.519051Z"
        },
        "papermill": {
          "duration": 0.556036,
          "end_time": "2022-05-27T17:53:23.522154",
          "exception": false,
          "start_time": "2022-05-27T17:53:22.966118",
          "status": "completed"
        },
        "tags": [],
        "id": "74d24ecc"
      },
      "outputs": [],
      "source": [
        "def get_sample_test_image():\n",
        "    # Choose image sample\n",
        "    expected_class = random.randint(1, 15)\n",
        "    random_sample = random.randint(1, 3)\n",
        "    # Build image path\n",
        "    image_path = f\"data/train/class_{expected_class}/class_{expected_class}_{random_sample}.png\"\n",
        "    # Read the file\n",
        "    img = cv2.imread(image_path, cv2.IMREAD_GRAYSCALE)\n",
        "    # Return the results\n",
        "    return img, expected_class"
      ]
    },
    {
      "cell_type": "markdown",
      "id": "80a18574",
      "metadata": {
        "papermill": {
          "duration": 0.395252,
          "end_time": "2022-05-27T17:53:24.306851",
          "exception": false,
          "start_time": "2022-05-27T17:53:23.911599",
          "status": "completed"
        },
        "tags": [],
        "id": "80a18574"
      },
      "source": [
        "**process image**"
      ]
    },
    {
      "cell_type": "code",
      "execution_count": null,
      "id": "685c7483",
      "metadata": {
        "execution": {
          "iopub.execute_input": "2022-05-27T17:53:25.105948Z",
          "iopub.status.busy": "2022-05-27T17:53:25.105621Z",
          "iopub.status.idle": "2022-05-27T17:53:25.111920Z",
          "shell.execute_reply": "2022-05-27T17:53:25.110913Z"
        },
        "papermill": {
          "duration": 0.406172,
          "end_time": "2022-05-27T17:53:25.114361",
          "exception": false,
          "start_time": "2022-05-27T17:53:24.708189",
          "status": "completed"
        },
        "tags": [],
        "id": "685c7483"
      },
      "outputs": [],
      "source": [
        "def preprocess_image(img):\n",
        "    image = Image.fromarray(img)\n",
        "    image = image.resize((160,160))\n",
        "    face_array = np.asarray(image)\n",
        "    # expands the dimensions\n",
        "    face_array = face_array.reshape(160,160,1)\n",
        "    face_array = face_array.astype('float32')\n",
        "    scaled_image = np.expand_dims(face_array, axis=0)\n",
        "    return scaled_image"
      ]
    },
    {
      "cell_type": "markdown",
      "id": "bc9efa4a",
      "metadata": {
        "papermill": {
          "duration": 0.389094,
          "end_time": "2022-05-27T17:53:25.898230",
          "exception": false,
          "start_time": "2022-05-27T17:53:25.509136",
          "status": "completed"
        },
        "tags": [],
        "id": "bc9efa4a"
      },
      "source": [
        "**use model to predict image class**"
      ]
    },
    {
      "cell_type": "code",
      "execution_count": null,
      "id": "44f15f0a",
      "metadata": {
        "execution": {
          "iopub.execute_input": "2022-05-27T17:53:26.709638Z",
          "iopub.status.busy": "2022-05-27T17:53:26.709334Z",
          "iopub.status.idle": "2022-05-27T17:53:26.719065Z",
          "shell.execute_reply": "2022-05-27T17:53:26.718124Z"
        },
        "papermill": {
          "duration": 0.423861,
          "end_time": "2022-05-27T17:53:26.721209",
          "exception": false,
          "start_time": "2022-05-27T17:53:26.297348",
          "status": "completed"
        },
        "tags": [],
        "id": "44f15f0a"
      },
      "outputs": [],
      "source": [
        "def prediction(image, debug=True): \n",
        "    # show the image\n",
        "    plt.imshow(image)\n",
        "    plt.show()\n",
        "\n",
        "    # Process the sample\n",
        "    input_sample = preprocess_image(img) \n",
        "\n",
        "    # Prediction\n",
        "    results = cnnmodel.predict(input_sample)\n",
        "    result = np.argmax(results, axis=1)\n",
        "    index = result[0]\n",
        "\n",
        "    # Calculate Confidence\n",
        "    confidence = results[0][index] * 100\n",
        "    classes = np.load(os.path.join(\"model\", class_names_file), allow_pickle=True).item()\n",
        "    # Get class name\n",
        "    if type(classes) is dict:\n",
        "        for k, v in classes.items():\n",
        "            if k == index:\n",
        "                class_name = v\n",
        "    if debug:\n",
        "        print(results)\n",
        "        print(\"Detected class is {} with {:.2f}% confidence\".format(class_name, round(confidence, 2)))\n",
        "    \n",
        "    # Return results\n",
        "    return class_name, confidence"
      ]
    },
    {
      "cell_type": "code",
      "execution_count": null,
      "id": "ed70f9f2",
      "metadata": {
        "execution": {
          "iopub.execute_input": "2022-05-27T17:53:27.509419Z",
          "iopub.status.busy": "2022-05-27T17:53:27.509123Z",
          "iopub.status.idle": "2022-05-27T17:53:27.904274Z",
          "shell.execute_reply": "2022-05-27T17:53:27.902093Z"
        },
        "papermill": {
          "duration": 0.799275,
          "end_time": "2022-05-27T17:53:27.907150",
          "exception": false,
          "start_time": "2022-05-27T17:53:27.107875",
          "status": "completed"
        },
        "tags": [],
        "colab": {
          "base_uri": "https://localhost:8080/",
          "height": 338
        },
        "id": "ed70f9f2",
        "outputId": "dee98fa5-454b-421a-b8c5-3703c23e30be"
      },
      "outputs": [
        {
          "output_type": "stream",
          "name": "stdout",
          "text": [
            "Expected class: 8\n"
          ]
        },
        {
          "output_type": "display_data",
          "data": {
            "text/plain": [
              "<Figure size 432x288 with 1 Axes>"
            ],
            "image/png": "[encoded data removed]"
          },
          "metadata": {
            "needs_background": "light"
          }
        },
        {
          "output_type": "stream",
          "name": "stdout",
          "text": [
            "[[0. 0. 0. 0. 0. 0. 0. 0. 0. 0. 0. 0. 0. 1. 0.]]\n",
            "Detected class is class_8 with 100.00% confidence\n"
          ]
        },
        {
          "output_type": "execute_result",
          "data": {
            "text/plain": [
              "(('class_8', 100.0), 'expected:8')"
            ]
          },
          "metadata": {},
          "execution_count": 43
        }
      ],
      "source": [
        "# Choose an image\n",
        "img, expected_class = get_sample_test_image()\n",
        "\n",
        "print(f\"Expected class: {expected_class}\")\n",
        "\n",
        "prediction(img), f\"expected:{expected_class}\""
      ]
    },
    {
      "cell_type": "markdown",
      "id": "3b0659a9",
      "metadata": {
        "papermill": {
          "duration": 0.397253,
          "end_time": "2022-05-27T17:53:28.700338",
          "exception": false,
          "start_time": "2022-05-27T17:53:28.303085",
          "status": "completed"
        },
        "tags": [],
        "id": "3b0659a9"
      },
      "source": [
        "# Authentication system"
      ]
    },
    {
      "cell_type": "code",
      "execution_count": null,
      "id": "612b5c38",
      "metadata": {
        "execution": {
          "iopub.execute_input": "2022-05-27T17:53:29.508743Z",
          "iopub.status.busy": "2022-05-27T17:53:29.507910Z",
          "iopub.status.idle": "2022-05-27T17:53:29.515222Z",
          "shell.execute_reply": "2022-05-27T17:53:29.514052Z"
        },
        "papermill": {
          "duration": 0.416905,
          "end_time": "2022-05-27T17:53:29.518228",
          "exception": false,
          "start_time": "2022-05-27T17:53:29.101323",
          "status": "completed"
        },
        "tags": [],
        "id": "612b5c38"
      },
      "outputs": [],
      "source": [
        "THRESHOLD = 90\n",
        "\n",
        "ALLOWED_USERS = [\"class_1\", \"class_2\", \"class_3\", \"class_4\", \"class_5\"]\n",
        "\n",
        "def authenticate(img, debug=False):\n",
        "    class_name, confidence = prediction(img, debug)\n",
        "    if (confidence < THRESHOLD):\n",
        "        print(\"Face not recognised\")\n",
        "    elif (class_name in ALLOWED_USERS):\n",
        "        print(\"Access Granted {}\".format(class_name))\n",
        "    else:\n",
        "        print(\"You are not permitted {}\".format(class_name))"
      ]
    },
    {
      "cell_type": "code",
      "execution_count": null,
      "id": "90bb4e20",
      "metadata": {
        "execution": {
          "iopub.execute_input": "2022-05-27T17:53:30.309842Z",
          "iopub.status.busy": "2022-05-27T17:53:30.309583Z",
          "iopub.status.idle": "2022-05-27T17:53:30.699602Z",
          "shell.execute_reply": "2022-05-27T17:53:30.698523Z"
        },
        "papermill": {
          "duration": 0.792433,
          "end_time": "2022-05-27T17:53:30.703183",
          "exception": false,
          "start_time": "2022-05-27T17:53:29.910750",
          "status": "completed"
        },
        "tags": [],
        "id": "90bb4e20",
        "outputId": "5154951c-7d94-4516-ad44-487542b3bd8f"
      },
      "outputs": [
        {
          "name": "stdout",
          "output_type": "stream",
          "text": [
            "expected class 14\n"
          ]
        },
        {
          "data": {
            "image/png": "[encoded data removed]",
            "text/plain": [
              "<Figure size 432x288 with 1 Axes>"
            ]
          },
          "metadata": {
            "needs_background": "light"
          },
          "output_type": "display_data"
        },
        {
          "name": "stdout",
          "output_type": "stream",
          "text": [
            "You are not permitted class_14\n"
          ]
        }
      ],
      "source": [
        "img, expected_class = get_sample_test_image()\n",
        "print(f\"expected class {expected_class}\")\n",
        "\n",
        "authenticate(img)"
      ]
    }
  ],
  "metadata": {
    "kernelspec": {
      "display_name": "Python 3",
      "language": "python",
      "name": "python3"
    },
    "language_info": {
      "codemirror_mode": {
        "name": "ipython",
        "version": 3
      },
      "file_extension": ".py",
      "mimetype": "text/x-python",
      "name": "python",
      "nbconvert_exporter": "python",
      "pygments_lexer": "ipython3",
      "version": "3.7.12"
    },
    "papermill": {
      "default_parameters": {},
      "duration": 394.915407,
      "end_time": "2022-05-27T17:53:34.181648",
      "environment_variables": {},
      "exception": null,
      "input_path": "__notebook__.ipynb",
      "output_path": "__notebook__.ipynb",
      "parameters": {},
      "start_time": "2022-05-27T17:46:59.266241",
      "version": "2.3.4"
    },
    "colab": {
      "provenance": [],
      "collapsed_sections": []
    }
  },
  "nbformat": 4,
  "nbformat_minor": 5
}